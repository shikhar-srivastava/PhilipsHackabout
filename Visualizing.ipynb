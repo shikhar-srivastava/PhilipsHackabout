{
 "cells": [
  {
   "cell_type": "code",
   "execution_count": 2,
   "metadata": {
    "collapsed": true
   },
   "outputs": [],
   "source": [
    "import sklearn\n",
    "import numpy as np\n",
    "import cPickle as pkl"
   ]
  },
  {
   "cell_type": "code",
   "execution_count": 4,
   "metadata": {
    "collapsed": false
   },
   "outputs": [],
   "source": [
    "with open('dataframes/los.pkl','rb') as f:\n",
    "    df = pkl.load(f)"
   ]
  },
  {
   "cell_type": "code",
   "execution_count": 19,
   "metadata": {
    "collapsed": false
   },
   "outputs": [
    {
     "name": "stdout",
     "output_type": "stream",
     "text": [
      "<class 'pandas.core.frame.DataFrame'>\n",
      "Int64Index: 1001 entries, 0 to 1000\n",
      "Data columns (total 59 columns):\n",
      "SL_NO                 1001 non-null int64\n",
      "Hosp_No               1001 non-null int64\n",
      "D O A                 1001 non-null object\n",
      "Los                   1001 non-null int64\n",
      "Sex                   1001 non-null int64\n",
      "Age                   1001 non-null int64\n",
      "SES                   999 non-null float64\n",
      "Education             1001 non-null int64\n",
      "profession            1001 non-null int64\n",
      "Income                1001 non-null int64\n",
      "Diet                  1001 non-null int64\n",
      "family h/o            1000 non-null float64\n",
      "Smoking               1001 non-null int64\n",
      "Tobacco               1001 non-null int64\n",
      "Alcohol               1001 non-null int64\n",
      "Gutka                 999 non-null float64\n",
      "WT                    992 non-null object\n",
      "BMI                   1001 non-null float64\n",
      "WC                    1001 non-null float64\n",
      "HC                    1001 non-null float64\n",
      "w/H ratio             1001 non-null float64\n",
      "HTN                   1001 non-null int64\n",
      "HTN DUR               1001 non-null float64\n",
      "DM                    1001 non-null int64\n",
      "DM DUR                1001 non-null float64\n",
      "Dyslipidemia          1001 non-null int64\n",
      "DYSP DUR              1001 non-null int64\n",
      "pre-diet              1001 non-null int64\n",
      "pre-Bpcheck up        1001 non-null int64\n",
      "pre-BS check up       1001 non-null int64\n",
      "Pre - Physical Ex     1001 non-null int64\n",
      "Angina                1001 non-null int64\n",
      "Angina Class          1000 non-null object\n",
      "SBP                   1001 non-null int64\n",
      "DBP                   1001 non-null int64\n",
      "Gly.HB                1000 non-null float64\n",
      "FBS                   1001 non-null float64\n",
      "TC                    1001 non-null float64\n",
      "LDL                   1001 non-null float64\n",
      "HDL                   1001 non-null int64\n",
      "TG                    1001 non-null int64\n",
      "TC/HDLratio           1001 non-null float64\n",
      "VLDL                  1001 non-null float64\n",
      "Creat                 1001 non-null float64\n",
      "Trop -T               997 non-null float64\n",
      "NT-proBNP             989 non-null object\n",
      "Diagnosis             1001 non-null object\n",
      "ACS_Score             1001 non-null int64\n",
      "EF                    999 non-null float64\n",
      "vessel involved       1001 non-null object\n",
      "vessel_score          999 non-null float64\n",
      "FRS                   1001 non-null int64\n",
      "CVD                   1001 non-null object\n",
      "HA                    1001 non-null object\n",
      "Mobility              998 non-null float64\n",
      "Self-care             996 non-null float64\n",
      "Usual activitis       998 non-null float64\n",
      "Pain/Discomfort       998 non-null float64\n",
      "Anxiety/Depression    998 non-null float64\n",
      "dtypes: float64(24), int64(27), object(8)\n",
      "memory usage: 469.2+ KB\n"
     ]
    }
   ],
   "source": [
    "df.info()"
   ]
  },
  {
   "cell_type": "markdown",
   "metadata": {},
   "source": [
    "# Need to convert all into floats...\n",
    "Especially 'object' classes"
   ]
  }
 ],
 "metadata": {
  "kernelspec": {
   "display_name": "Python [Root]",
   "language": "python",
   "name": "Python [Root]"
  },
  "language_info": {
   "codemirror_mode": {
    "name": "ipython",
    "version": 2
   },
   "file_extension": ".py",
   "mimetype": "text/x-python",
   "name": "python",
   "nbconvert_exporter": "python",
   "pygments_lexer": "ipython2",
   "version": "2.7.12"
  }
 },
 "nbformat": 4,
 "nbformat_minor": 0
}
