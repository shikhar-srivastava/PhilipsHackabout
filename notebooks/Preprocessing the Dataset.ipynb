{
 "cells": [
  {
   "cell_type": "markdown",
   "metadata": {},
   "source": [
    "### Amlodipine Dataset is prone to missing values\n",
    "\n",
    "*The following code statistically fills the data points using mean, and std. deviation"
   ]
  },
  {
   "cell_type": "code",
   "execution_count": null,
   "metadata": {
    "collapsed": true
   },
   "outputs": [],
   "source": [
    "# Importing CSV packages for processing & writing\n",
    "import csv\n",
    "import sys\n",
    "import numpy"
   ]
  },
  {
   "cell_type": "code",
   "execution_count": null,
   "metadata": {
    "collapsed": false
   },
   "outputs": [],
   "source": [
    "\n",
    "if len(sys.argv) != 3:\n",
    "    print(\"Invalid arguments\")\n",
    "    exit(1)\n",
    "\n",
    "f = open(sys.argv[1])\n",
    "csv_f = csv.reader(f)\n",
    "\n",
    "# Defining three placeholder arrays\n",
    "na = []\n",
    "lvef = []\n",
    "ivc = []\n"
   ]
  },
  {
   "cell_type": "markdown",
   "metadata": {},
   "source": [
    "*Appending select columns to placeholders*"
   ]
  },
  {
   "cell_type": "code",
   "execution_count": null,
   "metadata": {
    "collapsed": true
   },
   "outputs": [],
   "source": [
    "rows = [l for l in csv_f]\n",
    "\n",
    "for i in range(1, len(rows)):\n",
    "    if len(rows[i][0]) > 0:\n",
    "        if len(rows[i][20]) > 0:\n",
    "            na.append(float(rows[i][20]))\n",
    "        if len(rows[i][28]) > 0:\n",
    "            lvef.append(int(rows[i][28]))\n",
    "        if len(rows[i][29]) > 0:\n",
    "            ivc.append(int(rows[i][29]))"
   ]
  },
  {
   "cell_type": "markdown",
   "metadata": {},
   "source": [
    "*Calculating Mean, Std. Dev. for selected columns*"
   ]
  },
  {
   "cell_type": "code",
   "execution_count": null,
   "metadata": {
    "collapsed": false
   },
   "outputs": [],
   "source": [
    "\n",
    "print('Fractional_Na:')\n",
    "# print(na)\n",
    "print(len(na))\n",
    "na_u = numpy.mean(na, 0)\n",
    "print(na_u)\n",
    "na_std = numpy.std(na, 0)\n",
    "print(na_std)\n",
    "# numpy.std(na)\n",
    "print('lvef:')\n",
    "# print(lvef)\n",
    "print(len(lvef))\n",
    "lvef_u = numpy.mean(lvef, 0)\n",
    "print(lvef_u)\n",
    "lvef_std = numpy.std(lvef, 0)\n",
    "print(lvef_std)\n",
    "print('ivc:')\n",
    "# print(ivc)\n",
    "print(len(ivc))\n",
    "ivc_u = numpy.mean(ivc, 0)\n",
    "print(ivc_u)\n",
    "ivc_std = numpy.std(ivc, 0)\n",
    "print(ivc_std)"
   ]
  },
  {
   "cell_type": "markdown",
   "metadata": {},
   "source": [
    "*Appending the statistical approximations to fill the empty rows*"
   ]
  },
  {
   "cell_type": "code",
   "execution_count": null,
   "metadata": {
    "collapsed": true
   },
   "outputs": [],
   "source": [
    "for i in range(1, len(rows)):\n",
    "    for j in range(len(rows[i])):\n",
    "        rows[i][20] = round(numpy.random.normal(na_u, na_std), 2)\n",
    "        na.append(rows[i][20])\n",
    "        rows[i][29] = int(numpy.random.normal(lvef_u, lvef_std))\n",
    "        lvef.append(rows[i][29])\n",
    "        rows[i][30] = int(numpy.random.normal(ivc_u, ivc_std))\n",
    "        ivc.append(rows[i][30])\n"
   ]
  },
  {
   "cell_type": "code",
   "execution_count": null,
   "metadata": {
    "collapsed": true
   },
   "outputs": [],
   "source": [
    "# print(rows)\n",
    "print('Fractional_Na:')\n",
    "# print(na)\n",
    "print(len(na))\n",
    "na_u = numpy.mean(na, 0)\n",
    "print(na_u)\n",
    "na_std = numpy.std(na, 0)\n",
    "print(na_std)\n",
    "\n",
    "# numpy.std(na)\n",
    "print('lvef:')\n",
    "# print(lvef)\n",
    "print(len(lvef))\n",
    "lvef_u = numpy.mean(lvef, 0)\n",
    "print(lvef_u)\n",
    "lvef_std = numpy.std(lvef, 0)\n",
    "print(lvef_std)\n",
    "\n",
    "print('ivc:')\n",
    "# print(ivc)\n",
    "print(len(ivc))\n",
    "ivc_u = numpy.mean(ivc, 0)\n",
    "print(ivc_u)\n",
    "ivc_std = numpy.std(ivc, 0)\n",
    "print(ivc_std)"
   ]
  },
  {
   "cell_type": "markdown",
   "metadata": {},
   "source": [
    "*Writing Preprocessed Dataset to .CSV file*"
   ]
  },
  {
   "cell_type": "code",
   "execution_count": null,
   "metadata": {
    "collapsed": true
   },
   "outputs": [],
   "source": [
    "\n",
    "text_file = open(\"output.csv\", \"w\")\n",
    "for i in range(1, len(rows)):\n",
    "    if len(rows[i][0]) > 0:\n",
    "        for j in range(len(rows[i]) - 9):\n",
    "            text_file.write(str(rows[i][j]))\n",
    "            text_file.write(\",\")\n",
    "        text_file.write(\"\\n\")\n",
    "\n",
    "text_file.close()\n",
    "\n",
    "# writer = csv.writer(open('output.csv', 'w'))\n",
    "# writer.writerows(rows)"
   ]
  }
 ],
 "metadata": {
  "kernelspec": {
   "display_name": "Python 2",
   "language": "python",
   "name": "python2"
  },
  "language_info": {
   "codemirror_mode": {
    "name": "ipython",
    "version": 2
   },
   "file_extension": ".py",
   "mimetype": "text/x-python",
   "name": "python",
   "nbconvert_exporter": "python",
   "pygments_lexer": "ipython2",
   "version": "2.7.12"
  }
 },
 "nbformat": 4,
 "nbformat_minor": 0
}
