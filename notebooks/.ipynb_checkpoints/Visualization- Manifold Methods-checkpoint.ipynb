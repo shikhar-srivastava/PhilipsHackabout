{
 "cells": [
  {
   "cell_type": "code",
   "execution_count": 4,
   "metadata": {
    "collapsed": false
   },
   "outputs": [
    {
     "name": "stdout",
     "output_type": "stream",
     "text": [
      "Automatically created module for IPython interactive environment\n"
     ]
    }
   ],
   "source": [
    "print(__doc__)\n",
    "\n",
    "from time import time\n",
    "import numpy as np\n",
    "import matplotlib.pyplot as plt\n",
    "from mpl_toolkits.mplot3d import Axes3D\n",
    "from matplotlib.ticker import NullFormatter\n",
    "\n",
    "from sklearn import manifold, datasets\n",
    "\n",
    "# Next line to silence pyflakes. This import is needed.\n",
    "Axes3D\n",
    "# FILENAME here\n",
    "\n",
    "filename=\"../preprocessed/amlodipine.csv\"\n",
    "\n",
    "f = open(filename)\n",
    "f.readline()  # skip the header\n",
    "data =  np.loadtxt(fname = f, delimiter = ',',dtype='double')\n",
    "\n",
    "label = data[:,0]\n",
    "X = data[:, 1:data.shape[1]-1]\n",
    "# Dataset has Label at index 1"
   ]
  },
  {
   "cell_type": "markdown",
   "metadata": {},
   "source": [
    "#### Normalizing to Zero Mean Unit Variance"
   ]
  },
  {
   "cell_type": "code",
   "execution_count": 5,
   "metadata": {
    "collapsed": true
   },
   "outputs": [],
   "source": [
    "mean = X.mean(axis=0)\n",
    "std = X.std(axis=0)\n",
    "X = (X - mean) / std"
   ]
  },
  {
   "cell_type": "markdown",
   "metadata": {},
   "source": [
    "### Validate No. of neighbors & Components\n",
    "\n",
    "#### Restriction: n_neighbors > [n_components * (n_components + 3) / 2]\n",
    "\n",
    "** The no. of neighbors is to be validated **"
   ]
  },
  {
   "cell_type": "code",
   "execution_count": 6,
   "metadata": {
    "collapsed": true
   },
   "outputs": [],
   "source": [
    "n_neighbors = 6\n",
    "n_components = 2"
   ]
  },
  {
   "cell_type": "markdown",
   "metadata": {},
   "source": [
    "## Locally Linear Embeddings and Variations"
   ]
  },
  {
   "cell_type": "code",
   "execution_count": 7,
   "metadata": {
    "collapsed": false,
    "scrolled": true
   },
   "outputs": [
    {
     "name": "stdout",
     "output_type": "stream",
     "text": [
      "standard: 0.027 sec\n",
      "ltsa: 0.044 sec\n",
      "hessian: 0.11 sec\n",
      "modified: 0.05 sec\n"
     ]
    }
   ],
   "source": [
    "\n",
    "fig = plt.figure(figsize=(18, 12))\n",
    "plt.suptitle(\"Trying out different Manifold Techniques\", fontsize=14)\n",
    "\n",
    "## Some compatibility code below per Sklearn Example\n",
    "try:\n",
    "    # compatibility matplotlib < 1.0\n",
    "    ax = fig.add_subplot(251, projection='3d')\n",
    "    ax.scatter(X[:, 0], X[:, 1], X[:, 2], c=label, cmap=plt.cm.Spectral)\n",
    "    ax.view_init(4, -72)\n",
    "except:\n",
    "    ax = fig.add_subplot(251, projection='3d')\n",
    "    plt.scatter(X[:, 0], X[:, 2], c=label, cmap=plt.cm.Spectral)\n",
    "\n",
    "methods = ['standard', 'ltsa', 'hessian', 'modified']\n",
    "labels = ['LLE', 'LTSA', 'Hessian LLE', 'Modified LLE']\n",
    "\n",
    "for i, method in enumerate(methods):\n",
    "    t0 = time()\n",
    "    Y = manifold.LocallyLinearEmbedding(n_neighbors, n_components,\n",
    "                                        eigen_solver='dense',\n",
    "                                        method=method).fit_transform(X)\n",
    "    t1 = time()\n",
    "    print(\"%s: %.2g sec\" % (methods[i], t1 - t0))\n",
    "\n",
    "    ax = fig.add_subplot(252 + i)\n",
    "    plt.scatter(Y[:, 0], Y[:, 1], c=label, cmap=plt.cm.Spectral)\n",
    "    plt.title(\"%s (%.2g sec)\" % (labels[i], t1 - t0))\n",
    "    ax.xaxis.set_major_formatter(NullFormatter())\n",
    "    ax.yaxis.set_major_formatter(NullFormatter())\n",
    "    plt.axis('tight')\n"
   ]
  },
  {
   "cell_type": "markdown",
   "metadata": {},
   "source": [
    "## Isomap Learning"
   ]
  },
  {
   "cell_type": "code",
   "execution_count": 8,
   "metadata": {
    "collapsed": false,
    "scrolled": true
   },
   "outputs": [
    {
     "name": "stdout",
     "output_type": "stream",
     "text": [
      "Isomap: 0.036 sec\n"
     ]
    },
    {
     "data": {
      "text/plain": [
       "(-12.368011806920746,\n",
       " 20.088832106843213,\n",
       " -10.554476156998549,\n",
       " 14.846899559524843)"
      ]
     },
     "execution_count": 8,
     "metadata": {},
     "output_type": "execute_result"
    }
   ],
   "source": [
    "t0 = time()\n",
    "Y = manifold.Isomap(n_neighbors, n_components).fit_transform(X)\n",
    "t1 = time()\n",
    "print(\"Isomap: %.2g sec\" % (t1 - t0))\n",
    "ax = fig.add_subplot(257)\n",
    "plt.scatter(Y[:, 0], Y[:, 1], c=label, cmap=plt.cm.Spectral)\n",
    "plt.title(\"Isomap (%.2g sec)\" % (t1 - t0))\n",
    "ax.xaxis.set_major_formatter(NullFormatter())\n",
    "ax.yaxis.set_major_formatter(NullFormatter())\n",
    "plt.axis('tight')"
   ]
  },
  {
   "cell_type": "markdown",
   "metadata": {},
   "source": [
    "## Multi-dimensional Scaling (MDS)"
   ]
  },
  {
   "cell_type": "code",
   "execution_count": 9,
   "metadata": {
    "collapsed": false,
    "scrolled": false
   },
   "outputs": [
    {
     "name": "stdout",
     "output_type": "stream",
     "text": [
      "MDS: 0.13 sec\n"
     ]
    },
    {
     "data": {
      "text/plain": [
       "(-11.917518463391128,\n",
       " 10.130642992383486,\n",
       " -10.420231856851236,\n",
       " 10.937269647733363)"
      ]
     },
     "execution_count": 9,
     "metadata": {},
     "output_type": "execute_result"
    }
   ],
   "source": [
    "\n",
    "t0 = time()\n",
    "mds = manifold.MDS(n_components, max_iter=100, n_init=1)\n",
    "Y = mds.fit_transform(X)\n",
    "t1 = time()\n",
    "print(\"MDS: %.2g sec\" % (t1 - t0))\n",
    "ax = fig.add_subplot(258)\n",
    "plt.scatter(Y[:, 0], Y[:, 1], c=label, cmap=plt.cm.Spectral)\n",
    "plt.title(\"MDS (%.2g sec)\" % (t1 - t0))\n",
    "ax.xaxis.set_major_formatter(NullFormatter())\n",
    "ax.yaxis.set_major_formatter(NullFormatter())\n",
    "plt.axis('tight')"
   ]
  },
  {
   "cell_type": "markdown",
   "metadata": {},
   "source": [
    "## Spectral Embeddings"
   ]
  },
  {
   "cell_type": "code",
   "execution_count": 10,
   "metadata": {
    "collapsed": false
   },
   "outputs": [
    {
     "name": "stdout",
     "output_type": "stream",
     "text": [
      "SpectralEmbedding: 0.025 sec\n"
     ]
    },
    {
     "data": {
      "text/plain": [
       "(-0.34346141541171055,\n",
       " 0.62957455389437444,\n",
       " -0.52102996715027017,\n",
       " 0.59264008872546459)"
      ]
     },
     "execution_count": 10,
     "metadata": {},
     "output_type": "execute_result"
    }
   ],
   "source": [
    "\n",
    "t0 = time()\n",
    "se = manifold.SpectralEmbedding(n_components=n_components,\n",
    "                                n_neighbors=n_neighbors)\n",
    "Y = se.fit_transform(X)\n",
    "t1 = time()\n",
    "print(\"SpectralEmbedding: %.2g sec\" % (t1 - t0))\n",
    "ax = fig.add_subplot(259)\n",
    "plt.scatter(Y[:, 0], Y[:, 1], c=label, cmap=plt.cm.Spectral)\n",
    "plt.title(\"SpectralEmbedding (%.2g sec)\" % (t1 - t0))\n",
    "ax.xaxis.set_major_formatter(NullFormatter())\n",
    "ax.yaxis.set_major_formatter(NullFormatter())\n",
    "plt.axis('tight')\n"
   ]
  },
  {
   "cell_type": "markdown",
   "metadata": {
    "collapsed": false
   },
   "source": [
    "## t-Distributed Stochastic Neighbor Embedding (t-SNE)"
   ]
  },
  {
   "cell_type": "code",
   "execution_count": 11,
   "metadata": {
    "collapsed": false
   },
   "outputs": [
    {
     "name": "stdout",
     "output_type": "stream",
     "text": [
      "t-SNE: 1.3 sec\n"
     ]
    },
    {
     "data": {
      "text/plain": [
       "(-304.31430089631027,\n",
       " 207.99996705455413,\n",
       " -326.98457561205629,\n",
       " 453.9475591139859)"
      ]
     },
     "execution_count": 11,
     "metadata": {},
     "output_type": "execute_result"
    }
   ],
   "source": [
    "t0 = time()\n",
    "tsne = manifold.TSNE(n_components=n_components, init='pca', random_state=0)\n",
    "Y = tsne.fit_transform(X)\n",
    "t1 = time()\n",
    "print(\"t-SNE: %.2g sec\" % (t1 - t0))\n",
    "ax = fig.add_subplot(2, 5, 10)\n",
    "plt.scatter(Y[:, 0], Y[:, 1], c=label, cmap=plt.cm.Spectral)\n",
    "plt.title(\"t-SNE (%.2g sec)\" % (t1 - t0))\n",
    "ax.xaxis.set_major_formatter(NullFormatter())\n",
    "ax.yaxis.set_major_formatter(NullFormatter())\n",
    "plt.axis('tight')"
   ]
  },
  {
   "cell_type": "code",
   "execution_count": 12,
   "metadata": {
    "collapsed": true
   },
   "outputs": [],
   "source": [
    "plt.show()"
   ]
  },
  {
   "cell_type": "code",
   "execution_count": null,
   "metadata": {
    "collapsed": true
   },
   "outputs": [],
   "source": []
  }
 ],
 "metadata": {
  "kernelspec": {
   "display_name": "Python 2",
   "language": "python",
   "name": "python2"
  },
  "language_info": {
   "codemirror_mode": {
    "name": "ipython",
    "version": 2
   },
   "file_extension": ".py",
   "mimetype": "text/x-python",
   "name": "python",
   "nbconvert_exporter": "python",
   "pygments_lexer": "ipython2",
   "version": "2.7.12"
  }
 },
 "nbformat": 4,
 "nbformat_minor": 0
}
