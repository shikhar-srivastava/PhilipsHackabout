{
 "cells": [
  {
   "cell_type": "code",
   "execution_count": 1,
   "metadata": {
    "collapsed": true
   },
   "outputs": [],
   "source": [
    "import random\n",
    "import math\n",
    "\n",
    "# Configure paths to your dataset files here\n",
    "DATASET_FILE = '../preprocessed/amlodipine.csv'\n",
    "FILE_TRAIN = '../preprocessed/amlodipine_train.csv'\n",
    "FILE_TESTS = '../preprocessed/amlodipine_test.csv'\n",
    "\n",
    "\n",
    "IS_CSV = True\n",
    "\n",
    "# Make sure it adds to 100, no error checking below\n",
    "PERCENT_TRAIN = 70\n",
    "PERCENT_TESTS = 30\n",
    "\n",
    "data = [l for l in open(DATASET_FILE, 'r')]\n",
    "\n",
    "train_file = open(FILE_TRAIN, 'w')\n",
    "tests_file = open(FILE_TESTS, 'w')\n",
    "\n",
    "if IS_CSV:\n",
    "    train_file.write(data[0])\n",
    "    tests_file.write(data[0])\n",
    "    data = data[1:len(data)]\n",
    "\n",
    "num_of_data = len(data)\n",
    "num_train = int((PERCENT_TRAIN/100.0)*num_of_data)\n",
    "num_tests = int((PERCENT_TESTS/100.0)*num_of_data)\n",
    "\n",
    "data_fractions = [num_train, num_tests]\n",
    "split_data = [[],[]]\n",
    "\n",
    "# Insert random seed point\n",
    "rand_data_ind = 0\n",
    "\n",
    "for split_ind, fraction in enumerate(data_fractions):\n",
    "    for i in range(fraction):\n",
    "        rand_data_ind = random.randint(0, len(data)-1) # Random data init upto len(data) 0 indexed\n",
    "        split_data[split_ind].append(data[rand_data_ind])\n",
    "        data.pop(rand_data_ind)\n",
    "\n",
    "for l in split_data[0]:\n",
    "    train_file.write(l)\n",
    "    \n",
    "for l in split_data[1]:\n",
    "    tests_file.write(l)\n",
    "\n",
    "train_file.close()\n",
    "tests_file.close()"
   ]
  },
  {
   "cell_type": "code",
   "execution_count": null,
   "metadata": {
    "collapsed": true
   },
   "outputs": [],
   "source": []
  }
 ],
 "metadata": {
  "kernelspec": {
   "display_name": "Python 2",
   "language": "python",
   "name": "python2"
  },
  "language_info": {
   "codemirror_mode": {
    "name": "ipython",
    "version": 2
   },
   "file_extension": ".py",
   "mimetype": "text/x-python",
   "name": "python",
   "nbconvert_exporter": "python",
   "pygments_lexer": "ipython2",
   "version": "2.7.12"
  }
 },
 "nbformat": 4,
 "nbformat_minor": 0
}
