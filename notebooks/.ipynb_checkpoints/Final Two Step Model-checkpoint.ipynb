{
 "cells": [
  {
   "cell_type": "code",
   "execution_count": null,
   "metadata": {
    "collapsed": false,
    "scrolled": true
   },
   "outputs": [
    {
     "name": "stdout",
     "output_type": "stream",
     "text": [
      "Enter the Patient Details: \n",
      "\n",
      "\n"
     ]
    }
   ],
   "source": [
    "import numpy as np\n",
    "import matplotlib.pyplot as plt\n",
    "from matplotlib.colors import ListedColormap\n",
    "from sklearn.cross_validation import train_test_split\n",
    "from sklearn.preprocessing import StandardScaler\n",
    "from sklearn.neighbors import KNeighborsClassifier\n",
    "from sklearn.svm import SVC\n",
    "from sklearn.tree import DecisionTreeClassifier\n",
    "from sklearn.ensemble import RandomForestClassifier, AdaBoostClassifier\n",
    "from sklearn import linear_model\n",
    "from sklearn.externals import joblib\n",
    "\n",
    "clf_bare_bones = joblib.load('bare_bones.pkl') \n",
    "clf_no_blood=joblib.load('no_blood.pkl')\n",
    "\n",
    "print 'Enter the Patient Details: \\n\\n'\n",
    "X_no_blood= np.empty(5)\n",
    "X_bare_bones= np.empty(6)\n",
    "\n",
    "X_no_blood[0] = input('1. Mobility :')\n",
    "X_no_blood[1] = input('2. Anxiety and depression :')\n",
    "X_no_blood[2] = input('3. Usual activity :')\n",
    "X_no_blood[3] = input('4. VAS: ')\n",
    "X_no_blood[4] = input('5. Pain and Discomfort: ')\n",
    "\n",
    "min= -7.61614969163 # From Test Set\n",
    "max=  8.95765210687 # From Test Set\n",
    "\n",
    "no_blood_confidence= clf_no_blood.decision_function(X_no_blood)\n",
    "no_blood_confidence=(no_blood_confidence-min)/(max-min)\n",
    "if(no_blood_confidence <= 0.3):\n",
    "    print 'The model is ',round((1-no_blood_confidence.astype(float)),2)*100,'% confident that Patient DOES NOT have Pedal EDEMA '\n",
    "else:\n",
    "    print 'The model is ',(no_blood_confidence)*100,'% confident that Patient HAS Pedal EDEMA !'\n",
    "\n",
    "if(no_blood_confidence >= 0.2 and no_blood_confidence <=0.7):\n",
    "    print 'Using Stage 2 Model with Blood Test data: \\n'\n",
    "    X_bare_bones[0] = input('1. Plasma Renin : ')\n",
    "    X_bare_bones[1] = input('2. Mobility :')\n",
    "    X_bare_bones[2] = input('3. Anxiety And Depression :')\n",
    "    X_bare_bones[3] = input('4. Pain and Discomfort: ')\n",
    "    bare_bones_confidence=clf_bare_bones.decision_function(X_bare_bones)\n",
    "    bare_bones_confidence=(bare_bones_confidence-min)/(max-min)\n",
    "    if(no_blood_confidence <= 0.3):\n",
    "        print 'The model is ',round((1-bare_bones_confidence.astype(float)),2)*100,'% confident that Patient DOES NOT have Pedal EDEMA '\n",
    "    else:\n",
    "        print 'The model is ',(bare_bones_confidence)*100,'% confident that Patient HAS Pedal EDEMA !'\n"
   ]
  },
  {
   "cell_type": "markdown",
   "metadata": {},
   "source": [
    " "
   ]
  },
  {
   "cell_type": "code",
   "execution_count": null,
   "metadata": {
    "collapsed": true
   },
   "outputs": [],
   "source": []
  }
 ],
 "metadata": {
  "kernelspec": {
   "display_name": "Python 2",
   "language": "python",
   "name": "python2"
  },
  "language_info": {
   "codemirror_mode": {
    "name": "ipython",
    "version": 2
   },
   "file_extension": ".py",
   "mimetype": "text/x-python",
   "name": "python",
   "nbconvert_exporter": "python",
   "pygments_lexer": "ipython2",
   "version": "2.7.12"
  }
 },
 "nbformat": 4,
 "nbformat_minor": 0
}
