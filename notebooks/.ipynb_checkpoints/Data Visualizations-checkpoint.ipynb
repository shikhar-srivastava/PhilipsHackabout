{
 "cells": [
  {
   "cell_type": "code",
   "execution_count": 18,
   "metadata": {
    "collapsed": false
   },
   "outputs": [
    {
     "name": "stdout",
     "output_type": "stream",
     "text": [
      "Requirement already satisfied (use --upgrade to upgrade): seaborn in d:\\anaconda3\\envs\\dato-env\\lib\\site-packages\n"
     ]
    }
   ],
   "source": [
    "!pip install seaborn"
   ]
  },
  {
   "cell_type": "code",
   "execution_count": 19,
   "metadata": {
    "collapsed": true
   },
   "outputs": [],
   "source": [
    "import numpy as np\n",
    "import matplotlib.pyplot as plt\n",
    "import seaborn as sns"
   ]
  },
  {
   "cell_type": "code",
   "execution_count": 20,
   "metadata": {
    "collapsed": true
   },
   "outputs": [],
   "source": [
    "import pandas as pd"
   ]
  },
  {
   "cell_type": "code",
   "execution_count": 21,
   "metadata": {
    "collapsed": true
   },
   "outputs": [],
   "source": [
    "df=pd.read_csv('../preprocessed/amlodipine.csv')"
   ]
  },
  {
   "cell_type": "code",
   "execution_count": 22,
   "metadata": {
    "collapsed": false
   },
   "outputs": [
    {
     "data": {
      "text/plain": [
       "0      1\n",
       "1      1\n",
       "2      1\n",
       "3      1\n",
       "4      1\n",
       "5      1\n",
       "6      2\n",
       "7      2\n",
       "8      1\n",
       "9      1\n",
       "10     1\n",
       "11     1\n",
       "12     2\n",
       "13     1\n",
       "14     2\n",
       "15     2\n",
       "16     1\n",
       "17     1\n",
       "18     1\n",
       "19     1\n",
       "20     1\n",
       "21     1\n",
       "22     2\n",
       "23     1\n",
       "24     1\n",
       "25     2\n",
       "26     1\n",
       "27     2\n",
       "28     2\n",
       "29     1\n",
       "      ..\n",
       "176    2\n",
       "177    4\n",
       "178    3\n",
       "179    4\n",
       "180    4\n",
       "181    3\n",
       "182    3\n",
       "183    4\n",
       "184    3\n",
       "185    4\n",
       "186    3\n",
       "187    2\n",
       "188    2\n",
       "189    3\n",
       "190    2\n",
       "191    3\n",
       "192    4\n",
       "193    3\n",
       "194    2\n",
       "195    3\n",
       "196    3\n",
       "197    4\n",
       "198    2\n",
       "199    3\n",
       "200    4\n",
       "201    3\n",
       "202    3\n",
       "203    2\n",
       "204    4\n",
       "205    3\n",
       "Name: Anxiety and depression , dtype: int64"
      ]
     },
     "execution_count": 22,
     "metadata": {},
     "output_type": "execute_result"
    }
   ],
   "source": [
    "df['Anxiety and depression ']"
   ]
  },
  {
   "cell_type": "code",
   "execution_count": 23,
   "metadata": {
    "collapsed": false
   },
   "outputs": [],
   "source": [
    "%matplotlib inline\n",
    "def plot(sub):\n",
    "    cols = sub.columns\n",
    "    sns.lmplot(cols[0],cols[1],data=df,hue='Groups',fit_reg=False)"
   ]
  },
  {
   "cell_type": "code",
   "execution_count": 24,
   "metadata": {
    "collapsed": true
   },
   "outputs": [],
   "source": [
    "features = ['Plasma renin ','Mobility','Anxiety and depression ','VAS','Vasopressin ','VMA']"
   ]
  },
  {
   "cell_type": "code",
   "execution_count": null,
   "metadata": {
    "collapsed": false
   },
   "outputs": [],
   "source": [
    "for i in features:\n",
    "    for j in features:\n",
    "        if i == j:\n",
    "            continue\n",
    "        sub = [i,j]\n",
    "        plot(df[sub])\n",
    "        plt.savefig('../images/All comparisons/'+i+' vs '+j+'.png')"
   ]
  },
  {
   "cell_type": "code",
   "execution_count": null,
   "metadata": {
    "collapsed": false
   },
   "outputs": [],
   "source": [
    "sns.set_style('darkgrid')\n",
    "sns.lmplot('Anxiety and depression ','VMA',df)\n",
    "plt.savefig('../images/Anxiety and VMA.png')"
   ]
  },
  {
   "cell_type": "code",
   "execution_count": 93,
   "metadata": {
    "collapsed": false
   },
   "outputs": [],
   "source": [
    "data = df.values\n",
    "label = data[:,0]\n",
    "X = data[:, 1:data.shape[1]-1]\n",
    "# Dataset has Label at index 1"
   ]
  },
  {
   "cell_type": "code",
   "execution_count": 94,
   "metadata": {
    "collapsed": true
   },
   "outputs": [],
   "source": [
    "mean = X.mean(axis=0)\n",
    "std = X.std(axis=0)\n",
    "X = (X - mean) / std"
   ]
  },
  {
   "cell_type": "code",
   "execution_count": 135,
   "metadata": {
    "collapsed": true
   },
   "outputs": [],
   "source": [
    "n_neighbors = 8\n",
    "n_components = 2"
   ]
  },
  {
   "cell_type": "code",
   "execution_count": 136,
   "metadata": {
    "collapsed": false
   },
   "outputs": [],
   "source": [
    "from sklearn import manifold\n",
    "se = manifold.SpectralEmbedding(n_components=n_components,\n",
    "                                n_neighbors=n_neighbors)\n",
    "Y = se.fit_transform(X)"
   ]
  },
  {
   "cell_type": "code",
   "execution_count": 107,
   "metadata": {
    "collapsed": false
   },
   "outputs": [],
   "source": [
    "df['x_']=Y[:,0]\n",
    "df['y_']=Y[:,1]"
   ]
  },
  {
   "cell_type": "code",
   "execution_count": 137,
   "metadata": {
    "collapsed": false,
    "scrolled": true
   },
   "outputs": [
    {
     "data": {
      "image/png": "[encoded data removed]",
      "text/plain": [
       "<matplotlib.figure.Figure at 0x7f588b00b650>"
      ]
     },
     "metadata": {},
     "output_type": "display_data"
    }
   ],
   "source": [
    "sns.set_style('white')\n",
    "#sns.set_style('ticks',{\"xtick.major.size\": 10, \"ytick.major.size\": 10})\n",
    "sns.lmplot('x_','y_',data=df,hue='Groups',fit_reg=False)\n",
    "plt.savefig('../images/manifold_se.png')"
   ]
  },
  {
   "cell_type": "code",
   "execution_count": null,
   "metadata": {
    "collapsed": true
   },
   "outputs": [],
   "source": []
  }
 ],
 "metadata": {
  "kernelspec": {
   "display_name": "Python 2",
   "language": "python",
   "name": "python2"
  },
  "language_info": {
   "codemirror_mode": {
    "name": "ipython",
    "version": 2
   },
   "file_extension": ".py",
   "mimetype": "text/x-python",
   "name": "python",
   "nbconvert_exporter": "python",
   "pygments_lexer": "ipython2",
   "version": "2.7.12"
  }
 },
 "nbformat": 4,
 "nbformat_minor": 0
}
