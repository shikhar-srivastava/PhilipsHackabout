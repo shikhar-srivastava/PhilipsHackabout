{
 "cells": [
  {
   "cell_type": "markdown",
   "metadata": {},
   "source": [
    "### Training the final models"
   ]
  },
  {
   "cell_type": "code",
   "execution_count": 1,
   "metadata": {
    "collapsed": false
   },
   "outputs": [
    {
     "name": "stdout",
     "output_type": "stream",
     "text": [
      "Automatically created module for IPython interactive environment\n"
     ]
    }
   ],
   "source": [
    "%matplotlib qt4\n",
    "import matplotlib.pyplot as plt\n",
    "from mpl_toolkits.mplot3d import Axes3D\n",
    "from sklearn.metrics import roc_curve, auc,roc_auc_score,f1_score,confusion_matrix\n",
    "import numpy as np\n",
    "print (__doc__)\n",
    "\n",
    "bare_bones=\"../preprocessed/amlodipine_bare_bones.csv\"\n",
    "no_blood=\"../preprocessed/amlodipine_no_blood.csv\"\n",
    "f = open(bare_bones)\n",
    "f.readline()  # skip the header\n",
    "data =  np.loadtxt(fname = f, delimiter = ',',dtype='double')\n",
    "Y_bare_bones = data[:,0]\n",
    "X_bare_bones = data[:, 1:data.shape[1]]\n",
    "\n",
    "# Reading the labels now\n",
    "f= open(no_blood)\n",
    "f.readline()\n",
    "data =  np.loadtxt(fname = f, delimiter = ',',dtype='double')\n",
    "Y_no_blood = data[:,0]\n",
    "X_no_blood = data[:, 1:data.shape[1]]\n"
   ]
  },
  {
   "cell_type": "code",
   "execution_count": 2,
   "metadata": {
    "collapsed": true
   },
   "outputs": [],
   "source": [
    "# Replacing [1,3] with [0,1] for Groups 1,3 to 0,1\n",
    "Y_no_blood[Y_no_blood==1]=0\n",
    "Y_no_blood[Y_no_blood==3]=1\n",
    "\n",
    "Y_bare_bones[Y_bare_bones==1]=0\n",
    "Y_bare_bones[Y_bare_bones==3]=1"
   ]
  },
  {
   "cell_type": "markdown",
   "metadata": {
    "collapsed": true
   },
   "source": [
    "#Normalizing to Zero Mean Unit Variance\n",
    "mean = X_bare_bones.mean(axis=0)\n",
    "std = X_bare_bones.std(axis=0)\n",
    "X_bare_bones = (X_bare_bones - mean) / std\n",
    "\n",
    "mean = X_no_blood.mean(axis=0)\n",
    "std = X_no_blood.std(axis=0)\n",
    "X_no_blood = (X_no_blood - mean) / std"
   ]
  },
  {
   "cell_type": "code",
   "execution_count": 3,
   "metadata": {
    "collapsed": false
   },
   "outputs": [],
   "source": [
    "# Defining Confusion Matrix\n",
    "class_labels_=np.array(['Group 1','Group 3'])\n",
    "def plot_confusion_matrix(cm,name,title='Confusion matrix', cmap=plt.cm.Blues):\n",
    "    plt.imshow(cm, interpolation='nearest', cmap=cmap)\n",
    "    plt.title(title)\n",
    "    plt.colorbar()\n",
    "    tick_marks = np.arange(len(class_labels_))\n",
    "    plt.xticks(tick_marks,class_labels_, rotation=45)\n",
    "    plt.yticks(tick_marks,class_labels_)\n",
    "    plt.tight_layout()\n",
    "    plt.ylabel('True label')\n",
    "    plt.xlabel('Predicted label')"
   ]
  },
  {
   "cell_type": "code",
   "execution_count": null,
   "metadata": {
    "collapsed": true
   },
   "outputs": [],
   "source": []
  },
  {
   "cell_type": "code",
   "execution_count": 11,
   "metadata": {
    "collapsed": false,
    "scrolled": true
   },
   "outputs": [
    {
     "name": "stdout",
     "output_type": "stream",
     "text": [
      "min= -7.61614969163  and max=  8.95765210687\n",
      "0.0\n",
      "Logistic Regression Score:  1.0\n",
      "The confidence factor for the test set :  [ 0.83567748  0.18728335  0.57486947  0.26708492  0.76476342  0.6304039   1.\n",
      "  0.19602383  0.05905391  0.87046448  0.88693297  0.12253358  0.15826262\n",
      "  0.76066571  0.74923676  0.54269308  0.15550521  0.01040882  0.79922237\n",
      "  0.          0.10882229  0.94380791  0.77825771  0.50540674  0.13602786\n",
      "  0.11016258  0.12829963  0.11937792  0.01371129  0.90206138  0.80695038\n",
      "  0.01371129  0.69932157  0.60965646  0.74978204  0.10439653  0.8158721\n",
      "  0.89433315  0.10439653  0.77847471  0.73392733]\n",
      "The classification result is :  [ 1.  0.  1.  0.  1.  1.  1.  0.  0.  1.  1.  0.  0.  1.  1.  1.  0.  0.\n",
      "  1.  0.  0.  1.  1.  1.  0.  0.  0.  0.  0.  1.  1.  0.  1.  1.  1.  0.\n",
      "  1.  1.  0.  1.  1.]\n"
     ]
    }
   ],
   "source": [
    "%matplotlib inline\n",
    "import numpy as np\n",
    "import matplotlib.pyplot as plt\n",
    "from matplotlib.colors import ListedColormap\n",
    "from sklearn.cross_validation import train_test_split\n",
    "from sklearn.preprocessing import StandardScaler\n",
    "from sklearn.neighbors import KNeighborsClassifier\n",
    "from sklearn.svm import SVC\n",
    "from sklearn.tree import DecisionTreeClassifier\n",
    "from sklearn.ensemble import RandomForestClassifier, AdaBoostClassifier\n",
    "from sklearn import linear_model\n",
    "\n",
    "#Splitting the dataset into 30% test and 70% training set\n",
    "X_train, X_test, y_train, y_test = train_test_split(X_no_blood, Y_no_blood, test_size=.3)\n",
    "\n",
    "clf= linear_model.LogisticRegression()\n",
    "clf.fit(X_train, y_train)\n",
    "score = clf.score(X_test, y_test)\n",
    "y_predic=clf.predict(X_test)\n",
    "y_conf=clf.decision_function(X_test)\n",
    "print 'min=',y_conf.min(axis=0),' and max= ',y_conf.max(axis=0)\n",
    "y_conf = (y_conf - y_conf.min(axis=0)) / (y_conf.max(axis=0) - y_conf.min(axis=0))\n",
    "print y_conf.min(axis=0)\n",
    "print 'Logistic Regression Score: ',score\n",
    "print 'The confidence factor for the test set : ',y_conf\n",
    "print 'The classification result is : ',y_predic"
   ]
  },
  {
   "cell_type": "markdown",
   "metadata": {},
   "source": [
    "**Saving the Trained Model**"
   ]
  },
  {
   "cell_type": "code",
   "execution_count": 5,
   "metadata": {
    "collapsed": false
   },
   "outputs": [
    {
     "data": {
      "text/plain": [
       "['no_blood.pkl',\n",
       " 'no_blood.pkl_01.npy',\n",
       " 'no_blood.pkl_02.npy',\n",
       " 'no_blood.pkl_03.npy',\n",
       " 'no_blood.pkl_04.npy']"
      ]
     },
     "execution_count": 5,
     "metadata": {},
     "output_type": "execute_result"
    }
   ],
   "source": [
    "from sklearn.externals import joblib\n",
    "joblib.dump(clf, 'models/no_blood.pkl')"
   ]
  },
  {
   "cell_type": "code",
   "execution_count": 6,
   "metadata": {
    "collapsed": false
   },
   "outputs": [
    {
     "name": "stdout",
     "output_type": "stream",
     "text": [
      "SVM Classification Score:  1.0\n",
      "The confidence factor for the test set :  [ 0.86823894  0.06417253  0.07309179  0.89872246  0.75682218  0.05541037\n",
      "  0.02220725  0.02432834  0.01028897  0.          0.03571522  0.89153526\n",
      "  0.05847782  0.02893455  0.9785775   0.92531499  0.03141219  0.06033073\n",
      "  0.06689777  0.89069221  0.06005167  0.03593348  0.70024955  0.89243608\n",
      "  0.02087152  0.83218788  0.90971747  0.9373964   0.98840043  0.03661995\n",
      "  0.05849149  0.91023813  0.05985323  0.87758812  0.88125954  0.12973968\n",
      "  1.          0.99270369  0.96739011  0.05681649  0.92466511]\n",
      "The classification result is :  [ 1.  0.  0.  1.  1.  0.  0.  0.  0.  0.  0.  1.  0.  0.  1.  1.  0.  0.\n",
      "  0.  1.  0.  0.  1.  1.  0.  1.  1.  1.  1.  0.  0.  1.  0.  1.  1.  0.\n",
      "  1.  1.  1.  0.  1.]\n"
     ]
    }
   ],
   "source": [
    "import numpy as np\n",
    "import matplotlib.pyplot as plt\n",
    "from matplotlib.colors import ListedColormap\n",
    "from sklearn.cross_validation import train_test_split\n",
    "from sklearn.preprocessing import StandardScaler\n",
    "from sklearn.datasets import make_moons, make_circles, make_classification\n",
    "from sklearn.neighbors import KNeighborsClassifier\n",
    "from sklearn.svm import SVC\n",
    "from sklearn.tree import DecisionTreeClassifier\n",
    "from sklearn.ensemble import RandomForestClassifier, AdaBoostClassifier\n",
    "from sklearn import linear_model\n",
    "\n",
    "#Splitting the dataset into 30% test and 70% training set\n",
    "X_train, X_test, y_train, y_test = train_test_split(X_bare_bones, Y_bare_bones, test_size=.3)\n",
    "\n",
    "clf= SVC(probability=True)\n",
    "clf.fit(X_train, y_train)\n",
    "score = clf.score(X_test, y_test)\n",
    "y_predic=clf.predict(X_test)\n",
    "y_conf=clf.decision_function(X_test)    \n",
    "y_conf = (y_conf - y_conf.min(axis=0)) / (y_conf.max(axis=0) - y_conf.min(axis=0))\n",
    "print 'SVM Classification Score: ',score\n",
    "print 'The confidence factor for the test set : ',y_conf\n",
    "print 'The classification result is : ',y_predic"
   ]
  },
  {
   "cell_type": "code",
   "execution_count": 7,
   "metadata": {
    "collapsed": false
   },
   "outputs": [
    {
     "data": {
      "text/plain": [
       "['bare_bones.pkl',\n",
       " 'bare_bones.pkl_01.npy',\n",
       " 'bare_bones.pkl_02.npy',\n",
       " 'bare_bones.pkl_03.npy',\n",
       " 'bare_bones.pkl_04.npy',\n",
       " 'bare_bones.pkl_05.npy',\n",
       " 'bare_bones.pkl_06.npy',\n",
       " 'bare_bones.pkl_07.npy',\n",
       " 'bare_bones.pkl_08.npy',\n",
       " 'bare_bones.pkl_09.npy',\n",
       " 'bare_bones.pkl_10.npy',\n",
       " 'bare_bones.pkl_11.npy']"
      ]
     },
     "execution_count": 7,
     "metadata": {},
     "output_type": "execute_result"
    }
   ],
   "source": [
    "from sklearn.externals import joblib\n",
    "joblib.dump(clf, 'models/bare_bones.pkl')"
   ]
  },
  {
   "cell_type": "code",
   "execution_count": 8,
   "metadata": {
    "collapsed": false
   },
   "outputs": [
    {
     "name": "stdout",
     "output_type": "stream",
     "text": [
      "5\n"
     ]
    }
   ],
   "source": [
    "print X_no_blood.shape[1]"
   ]
  },
  {
   "cell_type": "code",
   "execution_count": 9,
   "metadata": {
    "collapsed": false
   },
   "outputs": [
    {
     "name": "stdout",
     "output_type": "stream",
     "text": [
      "4\n"
     ]
    }
   ],
   "source": [
    "print X_bare_bones.shape[1]"
   ]
  },
  {
   "cell_type": "code",
   "execution_count": null,
   "metadata": {
    "collapsed": true
   },
   "outputs": [],
   "source": []
  }
 ],
 "metadata": {
  "kernelspec": {
   "display_name": "Python 2",
   "language": "python",
   "name": "python2"
  },
  "language_info": {
   "codemirror_mode": {
    "name": "ipython",
    "version": 2
   },
   "file_extension": ".py",
   "mimetype": "text/x-python",
   "name": "python",
   "nbconvert_exporter": "python",
   "pygments_lexer": "ipython2",
   "version": "2.7.12"
  }
 },
 "nbformat": 4,
 "nbformat_minor": 0
}
