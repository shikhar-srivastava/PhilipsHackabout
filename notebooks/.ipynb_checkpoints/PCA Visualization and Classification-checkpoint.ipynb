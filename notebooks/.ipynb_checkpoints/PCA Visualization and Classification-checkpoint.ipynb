{
 "cells": [
  {
   "cell_type": "code",
   "execution_count": 40,
   "metadata": {
    "collapsed": false
   },
   "outputs": [
    {
     "name": "stdout",
     "output_type": "stream",
     "text": [
      "Automatically created module for IPython interactive environment\n"
     ]
    }
   ],
   "source": [
    "%matplotlib qt4\n",
    "import matplotlib.pyplot as plt\n",
    "from mpl_toolkits.mplot3d import Axes3D\n",
    "from sklearn import datasets\n",
    "from sklearn.decomposition import PCA\n",
    "from prettytable import PrettyTable\n",
    "from sklearn.decomposition import KernelPCA as kpca\n",
    "from sklearn.metrics import roc_curve, auc,roc_auc_score,f1_score,confusion_matrix\n",
    "import numpy as np\n",
    "print (__doc__)"
   ]
  },
  {
   "cell_type": "markdown",
   "metadata": {},
   "source": [
    "### Loading Data"
   ]
  },
  {
   "cell_type": "code",
   "execution_count": 41,
   "metadata": {
    "collapsed": false
   },
   "outputs": [],
   "source": [
    "filename=\"../preprocessed/amlodipine_bare_bones.csv\"\n",
    "f = open(filename)\n",
    "f.readline()  # skip the header\n",
    "data =  np.loadtxt(fname = f, delimiter = ',',dtype='double')\n",
    "Y = data[:,0]\n",
    "X = data[:, 1:data.shape[1]] "
   ]
  },
  {
   "cell_type": "code",
   "execution_count": 42,
   "metadata": {
    "collapsed": false
   },
   "outputs": [
    {
     "name": "stdout",
     "output_type": "stream",
     "text": [
      "X:  [[  1.     1.     1.     0.42]\n",
      " [  1.     1.     1.     0.38]\n",
      " [  2.     1.     1.     0.43]\n",
      " [  1.     1.     1.     0.43]\n",
      " [  1.     1.     1.     0.59]\n",
      " [  1.     2.     1.     0.28]\n",
      " [  1.     1.     2.     0.36]\n",
      " [  1.     1.     2.     0.45]\n",
      " [  1.     1.     1.     0.22]\n",
      " [  2.     1.     1.     0.2 ]\n",
      " [  1.     1.     1.     0.13]\n",
      " [  1.     2.     1.     0.29]\n",
      " [  1.     1.     2.     0.4 ]\n",
      " [  1.     2.     1.     0.35]\n",
      " [  1.     1.     2.     0.41]\n",
      " [  1.     2.     2.     0.17]\n",
      " [  2.     1.     1.     0.14]\n",
      " [  2.     1.     1.     0.34]\n",
      " [  1.     1.     1.     0.46]\n",
      " [  1.     1.     1.     0.39]\n",
      " [  1.     1.     1.     0.49]\n",
      " [  1.     2.     1.     0.51]\n",
      " [  1.     2.     2.     0.42]\n",
      " [  1.     1.     1.     0.19]\n",
      " [  1.     1.     1.     0.49]\n",
      " [  1.     2.     2.     0.31]\n",
      " [  1.     2.     1.     0.48]\n",
      " [  2.     1.     2.     0.31]\n",
      " [  2.     2.     2.     0.24]\n",
      " [  2.     1.     1.     0.44]\n",
      " [  1.     2.     2.     0.29]\n",
      " [  1.     1.     2.     0.49]\n",
      " [  1.     1.     2.     1.48]\n",
      " [  1.     1.     1.     0.09]\n",
      " [  1.     1.     1.     0.25]\n",
      " [  1.     1.     1.     0.19]\n",
      " [  1.     1.     2.     0.44]\n",
      " [  1.     1.     2.     0.3 ]\n",
      " [  2.     1.     1.     0.25]\n",
      " [  2.     2.     1.     0.1 ]\n",
      " [  1.     1.     1.     0.18]\n",
      " [  1.     1.     2.     0.18]\n",
      " [  1.     1.     1.     0.69]\n",
      " [  1.     2.     1.     0.22]\n",
      " [  2.     1.     1.     0.37]\n",
      " [  1.     1.     1.     0.22]\n",
      " [  1.     1.     1.     0.31]\n",
      " [  1.     1.     2.     0.24]\n",
      " [  1.     1.     1.     0.21]\n",
      " [  2.     1.     2.     0.43]\n",
      " [  1.     1.     2.     0.22]\n",
      " [  1.     1.     1.     0.58]\n",
      " [  1.     1.     1.     0.59]\n",
      " [  1.     1.     1.     0.43]\n",
      " [  1.     2.     1.     0.39]\n",
      " [  1.     1.     1.     0.4 ]\n",
      " [  1.     2.     1.     0.24]\n",
      " [  1.     2.     1.     0.31]\n",
      " [  1.     2.     1.     0.24]\n",
      " [  2.     1.     2.     0.32]\n",
      " [  1.     2.     1.     0.22]\n",
      " [  2.     2.     2.     0.45]\n",
      " [  1.     1.     1.     0.18]\n",
      " [  3.     1.     1.     0.69]\n",
      " [  1.     1.     1.     0.22]\n",
      " [  1.     1.     1.     0.37]\n",
      " [  1.     1.     2.     0.31]\n",
      " [  1.     1.     1.     0.24]\n",
      " [  1.     2.     1.     0.21]\n",
      " [  1.     1.     1.     0.43]\n",
      " [  1.     2.     2.     0.75]\n",
      " [  2.     1.     2.     0.6 ]\n",
      " [  1.     2.     1.     1.01]\n",
      " [  2.     2.     2.     0.7 ]\n",
      " [  2.     1.     1.     0.66]\n",
      " [  1.     1.     1.     0.73]\n",
      " [  1.     1.     2.     1.54]\n",
      " [  2.     1.     2.     0.53]\n",
      " [  1.     1.     2.     0.86]\n",
      " [  2.     2.     1.     0.78]\n",
      " [  1.     1.     1.     0.7 ]\n",
      " [  1.     1.     2.     0.76]\n",
      " [  2.     1.     1.     0.24]\n",
      " [  1.     1.     1.     0.65]\n",
      " [  2.     1.     1.     0.62]\n",
      " [  1.     1.     1.     0.55]\n",
      " [  2.     1.     3.     0.49]\n",
      " [  1.     1.     1.     0.44]\n",
      " [  2.     2.     2.     0.58]\n",
      " [  2.     1.     1.     0.59]\n",
      " [  1.     3.     1.     0.67]\n",
      " [  2.     1.     2.     1.06]\n",
      " [  2.     2.     1.     0.79]\n",
      " [  1.     1.     2.     0.56]\n",
      " [  2.     1.     1.     0.71]\n",
      " [  1.     1.     1.     0.47]\n",
      " [  1.     2.     1.     1.12]\n",
      " [  1.     1.     1.     0.51]\n",
      " [  1.     2.     2.     0.84]\n",
      " [  1.     1.     1.     0.42]\n",
      " [  1.     1.     2.     0.54]\n",
      " [  2.     2.     1.     1.05]\n",
      " [  1.     2.     1.     0.51]\n",
      " [  2.     2.     1.     0.52]\n",
      " [  1.     1.     2.     0.57]\n",
      " [  1.     2.     2.     0.52]\n",
      " [  2.     1.     1.     0.36]\n",
      " [  1.     2.     1.     0.39]\n",
      " [  1.     2.     1.     0.64]\n",
      " [  2.     1.     1.     1.31]\n",
      " [  1.     2.     1.     0.61]\n",
      " [  2.     1.     2.     0.64]\n",
      " [  2.     1.     2.     0.41]\n",
      " [  1.     1.     1.     0.67]\n",
      " [  2.     1.     1.     0.43]\n",
      " [  1.     2.     1.     0.39]\n",
      " [  2.     2.     2.     0.4 ]\n",
      " [  1.     2.     1.     0.24]\n",
      " [  2.     1.     1.     0.31]\n",
      " [  1.     2.     2.     0.24]\n",
      " [  2.     1.     1.     0.32]\n",
      " [  1.     1.     1.     0.22]\n",
      " [  2.     2.     1.     0.45]\n",
      " [  1.     1.     1.     0.18]\n",
      " [  2.     1.     1.     0.69]\n",
      " [  1.     1.     2.     0.78]\n",
      " [  1.     1.     1.     0.7 ]\n",
      " [  1.     2.     1.     0.76]\n",
      " [  2.     1.     2.     0.24]\n",
      " [  1.     1.     1.     0.65]\n",
      " [  2.     1.     1.     0.62]\n",
      " [  1.     1.     2.     0.55]\n",
      " [  2.     1.     1.     0.49]\n",
      " [  2.     2.     2.     0.44]\n",
      " [  1.     2.     2.     0.58]\n",
      " [  2.     1.     1.     0.59]\n",
      " [  1.     2.     1.     0.67]\n",
      " [  2.     1.     1.     0.65]\n",
      " [  2.     1.     1.     0.62]\n",
      " [  1.     2.     2.     0.55]\n",
      " [  3.     3.     3.     1.96]\n",
      " [  3.     4.     3.     4.55]\n",
      " [  2.     5.     4.     3.99]\n",
      " [  2.     3.     5.     2.98]\n",
      " [  2.     2.     3.     6.6 ]\n",
      " [  3.     2.     4.     5.14]\n",
      " [  3.     3.     3.     2.57]\n",
      " [  3.     2.     3.     2.77]\n",
      " [  3.     3.     2.     6.25]\n",
      " [  4.     3.     2.     5.51]\n",
      " [  3.     3.     3.     5.05]\n",
      " [  3.     3.     3.     5.26]\n",
      " [  2.     3.     2.     7.55]\n",
      " [  3.     2.     3.     5.19]\n",
      " [  3.     3.     1.     3.97]\n",
      " [  4.     2.     2.     4.8 ]\n",
      " [  3.     3.     3.     0.24]\n",
      " [  4.     3.     4.     4.79]\n",
      " [  3.     2.     3.     4.01]\n",
      " [  4.     3.     4.     4.63]\n",
      " [  3.     2.     2.     5.45]\n",
      " [  3.     3.     2.     6.87]\n",
      " [  3.     4.     4.     4.81]\n",
      " [  4.     3.     3.     3.63]\n",
      " [  3.     3.     3.     7.67]\n",
      " [  3.     3.     2.     5.32]\n",
      " [  3.     3.     3.     3.58]\n",
      " [  3.     3.     3.     3.77]\n",
      " [  3.     2.     3.     5.99]\n",
      " [  2.     3.     2.     4.81]\n",
      " [  3.     3.     3.     3.09]\n",
      " [  2.     3.     3.     3.6 ]\n",
      " [  3.     3.     3.     6.37]\n",
      " [  3.     3.     3.     5.39]\n",
      " [  3.     3.     3.     5.26]\n",
      " [  4.     3.     3.     3.15]\n",
      " [  3.     4.     2.     8.27]\n",
      " [  3.     3.     4.     5.42]\n",
      " [  4.     2.     3.     3.58]\n",
      " [  2.     3.     4.     4.43]\n",
      " [  2.     2.     4.     9.29]\n",
      " [  4.     2.     3.     4.93]\n",
      " [  2.     2.     3.     4.34]\n",
      " [  3.     3.     4.     4.5 ]\n",
      " [  3.     3.     3.     9.68]\n",
      " [  2.     4.     4.     9.22]\n",
      " [  4.     4.     3.     5.83]\n",
      " [  2.     2.     2.     7.82]\n",
      " [  3.     3.     2.     2.52]\n",
      " [  2.     2.     3.     2.13]\n",
      " [  3.     2.     2.     2.12]\n",
      " [  2.     3.     3.     1.45]\n",
      " [  3.     2.     4.     1.35]\n",
      " [  2.     2.     3.     1.74]\n",
      " [  3.     2.     2.     1.33]\n",
      " [  2.     2.     3.     2.85]\n",
      " [  4.     3.     3.     1.15]\n",
      " [  3.     1.     4.     1.25]\n",
      " [  2.     2.     2.     2.11]\n",
      " [  3.     3.     3.     3.92]\n",
      " [  4.     2.     4.     5.45]\n",
      " [  2.     2.     3.     4.86]\n",
      " [  3.     3.     3.     1.31]\n",
      " [  2.     2.     2.    11.53]\n",
      " [  4.     2.     4.     3.17]\n",
      " [  3.     3.     3.     9.53]]\n",
      "Y:  [ 1.  1.  1.  1.  1.  1.  1.  1.  1.  1.  1.  1.  1.  1.  1.  1.  1.  1.\n",
      "  1.  1.  1.  1.  1.  1.  1.  1.  1.  1.  1.  1.  1.  1.  1.  1.  1.  1.\n",
      "  1.  1.  1.  1.  1.  1.  1.  1.  1.  1.  1.  1.  1.  1.  1.  1.  1.  1.\n",
      "  1.  1.  1.  1.  1.  1.  1.  1.  1.  1.  1.  1.  1.  1.  1.  1.  2.  2.\n",
      "  2.  2.  2.  2.  2.  2.  2.  2.  2.  2.  2.  2.  2.  2.  2.  2.  2.  2.\n",
      "  2.  2.  2.  2.  2.  2.  2.  2.  2.  2.  2.  2.  2.  2.  2.  2.  2.  2.\n",
      "  2.  2.  2.  2.  2.  2.  2.  2.  2.  2.  2.  2.  2.  2.  2.  2.  2.  2.\n",
      "  2.  2.  2.  2.  2.  2.  2.  2.  2.  2.  2.  2.  2.  2.  3.  3.  3.  3.\n",
      "  3.  3.  3.  3.  3.  3.  3.  3.  3.  3.  3.  3.  3.  3.  3.  3.  3.  3.\n",
      "  3.  3.  3.  3.  3.  3.  3.  3.  3.  3.  3.  3.  3.  3.  3.  3.  3.  3.\n",
      "  3.  3.  3.  3.  3.  3.  3.  3.  3.  3.  3.  3.  3.  3.  3.  3.  3.  3.\n",
      "  3.  3.  3.  3.  3.  3.  3.  3.]\n"
     ]
    }
   ],
   "source": [
    "print 'X: ',X\n",
    "print 'Y: ',Y"
   ]
  },
  {
   "cell_type": "code",
   "execution_count": 43,
   "metadata": {
    "collapsed": false,
    "scrolled": true
   },
   "outputs": [],
   "source": [
    "#Normalizing to Zero Mean Unit Variance\n",
    "mean = X.mean(axis=0)\n",
    "std = X.std(axis=0)\n",
    "X = (X - mean) / std"
   ]
  },
  {
   "cell_type": "code",
   "execution_count": 44,
   "metadata": {
    "collapsed": false
   },
   "outputs": [
    {
     "name": "stdout",
     "output_type": "stream",
     "text": [
      "Normalization gives:  [[-0.91 -0.9  -0.89 -0.59]\n",
      " [-0.91 -0.9  -0.89 -0.61]\n",
      " [ 0.17 -0.9  -0.89 -0.58]\n",
      " [-0.91 -0.9  -0.89 -0.58]\n",
      " [-0.91 -0.9  -0.89 -0.52]\n",
      " [-0.91  0.27 -0.89 -0.65]\n",
      " [-0.91 -0.9   0.14 -0.61]\n",
      " [-0.91 -0.9   0.14 -0.58]\n",
      " [-0.91 -0.9  -0.89 -0.67]\n",
      " [ 0.17 -0.9  -0.89 -0.68]\n",
      " [-0.91 -0.9  -0.89 -0.71]\n",
      " [-0.91  0.27 -0.89 -0.64]\n",
      " [-0.91 -0.9   0.14 -0.6 ]\n",
      " [-0.91  0.27 -0.89 -0.62]\n",
      " [-0.91 -0.9   0.14 -0.6 ]\n",
      " [-0.91  0.27  0.14 -0.7 ]\n",
      " [ 0.17 -0.9  -0.89 -0.71]\n",
      " [ 0.17 -0.9  -0.89 -0.63]\n",
      " [-0.91 -0.9  -0.89 -0.57]\n",
      " [-0.91 -0.9  -0.89 -0.6 ]\n",
      " [-0.91 -0.9  -0.89 -0.56]\n",
      " [-0.91  0.27 -0.89 -0.55]\n",
      " [-0.91  0.27  0.14 -0.59]\n",
      " [-0.91 -0.9  -0.89 -0.69]\n",
      " [-0.91 -0.9  -0.89 -0.56]\n",
      " [-0.91  0.27  0.14 -0.64]\n",
      " [-0.91  0.27 -0.89 -0.56]\n",
      " [ 0.17 -0.9   0.14 -0.64]\n",
      " [ 0.17  0.27  0.14 -0.67]\n",
      " [ 0.17 -0.9  -0.89 -0.58]\n",
      " [-0.91  0.27  0.14 -0.64]\n",
      " [-0.91 -0.9   0.14 -0.56]\n",
      " [-0.91 -0.9   0.14 -0.14]\n",
      " [-0.91 -0.9  -0.89 -0.73]\n",
      " [-0.91 -0.9  -0.89 -0.66]\n",
      " [-0.91 -0.9  -0.89 -0.69]\n",
      " [-0.91 -0.9   0.14 -0.58]\n",
      " [-0.91 -0.9   0.14 -0.64]\n",
      " [ 0.17 -0.9  -0.89 -0.66]\n",
      " [ 0.17  0.27 -0.89 -0.73]\n",
      " [-0.91 -0.9  -0.89 -0.69]\n",
      " [-0.91 -0.9   0.14 -0.69]\n",
      " [-0.91 -0.9  -0.89 -0.47]\n",
      " [-0.91  0.27 -0.89 -0.68]\n",
      " [ 0.17 -0.9  -0.89 -0.61]\n",
      " [-0.91 -0.9  -0.89 -0.67]\n",
      " [-0.91 -0.9  -0.89 -0.64]\n",
      " [-0.91 -0.9   0.14 -0.67]\n",
      " [-0.91 -0.9  -0.89 -0.68]\n",
      " [ 0.17 -0.9   0.14 -0.59]\n",
      " [-0.91 -0.9   0.14 -0.67]\n",
      " [-0.91 -0.9  -0.89 -0.52]\n",
      " [-0.91 -0.9  -0.89 -0.52]\n",
      " [-0.91 -0.9  -0.89 -0.58]\n",
      " [-0.91  0.27 -0.89 -0.6 ]\n",
      " [-0.91 -0.9  -0.89 -0.6 ]\n",
      " [-0.91  0.27 -0.89 -0.67]\n",
      " [-0.91  0.27 -0.89 -0.64]\n",
      " [-0.91  0.27 -0.89 -0.67]\n",
      " [ 0.17 -0.9   0.14 -0.63]\n",
      " [-0.91  0.27 -0.89 -0.68]\n",
      " [ 0.17  0.27  0.14 -0.58]\n",
      " [-0.91 -0.9  -0.89 -0.69]\n",
      " [ 1.26 -0.9  -0.89 -0.47]\n",
      " [-0.91 -0.9  -0.89 -0.68]\n",
      " [-0.91 -0.9  -0.89 -0.61]\n",
      " [-0.91 -0.9   0.14 -0.64]\n",
      " [-0.91 -0.9  -0.89 -0.67]\n",
      " [-0.91  0.27 -0.89 -0.68]\n",
      " [-0.91 -0.9  -0.89 -0.59]\n",
      " [-0.91  0.27  0.14 -0.45]\n",
      " [ 0.17 -0.9   0.14 -0.51]\n",
      " [-0.91  0.27 -0.89 -0.34]\n",
      " [ 0.17  0.27  0.14 -0.47]\n",
      " [ 0.17 -0.9  -0.89 -0.49]\n",
      " [-0.91 -0.9  -0.89 -0.46]\n",
      " [-0.91 -0.9   0.14 -0.11]\n",
      " [ 0.17 -0.9   0.14 -0.54]\n",
      " [-0.91 -0.9   0.14 -0.4 ]\n",
      " [ 0.17  0.27 -0.89 -0.44]\n",
      " [-0.91 -0.9  -0.89 -0.47]\n",
      " [-0.91 -0.9   0.14 -0.44]\n",
      " [ 0.17 -0.9  -0.89 -0.67]\n",
      " [-0.91 -0.9  -0.89 -0.49]\n",
      " [ 0.17 -0.9  -0.89 -0.51]\n",
      " [-0.91 -0.9  -0.89 -0.53]\n",
      " [ 0.17 -0.9   1.18 -0.56]\n",
      " [-0.91 -0.9  -0.89 -0.58]\n",
      " [ 0.17  0.27  0.14 -0.52]\n",
      " [ 0.17 -0.9  -0.89 -0.52]\n",
      " [-0.91  1.44 -0.89 -0.48]\n",
      " [ 0.17 -0.9   0.14 -0.32]\n",
      " [ 0.17  0.27 -0.89 -0.43]\n",
      " [-0.91 -0.9   0.14 -0.53]\n",
      " [ 0.17 -0.9  -0.89 -0.47]\n",
      " [-0.91 -0.9  -0.89 -0.57]\n",
      " [-0.91  0.27 -0.89 -0.29]\n",
      " [-0.91 -0.9  -0.89 -0.55]\n",
      " [-0.91  0.27  0.14 -0.41]\n",
      " [-0.91 -0.9  -0.89 -0.59]\n",
      " [-0.91 -0.9   0.14 -0.54]\n",
      " [ 0.17  0.27 -0.89 -0.32]\n",
      " [-0.91  0.27 -0.89 -0.55]\n",
      " [ 0.17  0.27 -0.89 -0.55]\n",
      " [-0.91 -0.9   0.14 -0.53]\n",
      " [-0.91  0.27  0.14 -0.55]\n",
      " [ 0.17 -0.9  -0.89 -0.61]\n",
      " [-0.91  0.27 -0.89 -0.6 ]\n",
      " [-0.91  0.27 -0.89 -0.5 ]\n",
      " [ 0.17 -0.9  -0.89 -0.21]\n",
      " [-0.91  0.27 -0.89 -0.51]\n",
      " [ 0.17 -0.9   0.14 -0.49]\n",
      " [ 0.17 -0.9   0.14 -0.6 ]\n",
      " [-0.91 -0.9  -0.89 -0.48]\n",
      " [ 0.17 -0.9  -0.89 -0.58]\n",
      " [-0.91  0.27 -0.89 -0.6 ]\n",
      " [ 0.17  0.27  0.14 -0.6 ]\n",
      " [-0.91  0.27 -0.89 -0.67]\n",
      " [ 0.17 -0.9  -0.89 -0.64]\n",
      " [-0.91  0.27  0.14 -0.67]\n",
      " [ 0.17 -0.9  -0.89 -0.63]\n",
      " [-0.91 -0.9  -0.89 -0.68]\n",
      " [ 0.17  0.27 -0.89 -0.58]\n",
      " [-0.91 -0.9  -0.89 -0.69]\n",
      " [ 0.17 -0.9  -0.89 -0.47]\n",
      " [-0.91 -0.9   0.14 -0.44]\n",
      " [-0.91 -0.9  -0.89 -0.47]\n",
      " [-0.91  0.27 -0.89 -0.44]\n",
      " [ 0.17 -0.9   0.14 -0.67]\n",
      " [-0.91 -0.9  -0.89 -0.49]\n",
      " [ 0.17 -0.9  -0.89 -0.51]\n",
      " [-0.91 -0.9   0.14 -0.53]\n",
      " [ 0.17 -0.9  -0.89 -0.56]\n",
      " [ 0.17  0.27  0.14 -0.58]\n",
      " [-0.91  0.27  0.14 -0.52]\n",
      " [ 0.17 -0.9  -0.89 -0.52]\n",
      " [-0.91  0.27 -0.89 -0.48]\n",
      " [ 0.17 -0.9  -0.89 -0.49]\n",
      " [ 0.17 -0.9  -0.89 -0.51]\n",
      " [-0.91  0.27  0.14 -0.53]\n",
      " [ 1.26  1.44  1.18  0.07]\n",
      " [ 1.26  2.61  1.18  1.18]\n",
      " [ 0.17  3.78  2.21  0.94]\n",
      " [ 0.17  1.44  3.25  0.5 ]\n",
      " [ 0.17  0.27  1.18  2.05]\n",
      " [ 1.26  0.27  2.21  1.43]\n",
      " [ 1.26  1.44  1.18  0.33]\n",
      " [ 1.26  0.27  1.18  0.41]\n",
      " [ 1.26  1.44  0.14  1.9 ]\n",
      " [ 2.35  1.44  0.14  1.58]\n",
      " [ 1.26  1.44  1.18  1.39]\n",
      " [ 1.26  1.44  1.18  1.48]\n",
      " [ 0.17  1.44  0.14  2.46]\n",
      " [ 1.26  0.27  1.18  1.45]\n",
      " [ 1.26  1.44 -0.89  0.93]\n",
      " [ 2.35  0.27  0.14  1.28]\n",
      " [ 1.26  1.44  1.18 -0.67]\n",
      " [ 2.35  1.44  2.21  1.28]\n",
      " [ 1.26  0.27  1.18  0.95]\n",
      " [ 2.35  1.44  2.21  1.21]\n",
      " [ 1.26  0.27  0.14  1.56]\n",
      " [ 1.26  1.44  0.14  2.17]\n",
      " [ 1.26  2.61  2.21  1.29]\n",
      " [ 2.35  1.44  1.18  0.78]\n",
      " [ 1.26  1.44  1.18  2.51]\n",
      " [ 1.26  1.44  0.14  1.51]\n",
      " [ 1.26  1.44  1.18  0.76]\n",
      " [ 1.26  1.44  1.18  0.84]\n",
      " [ 1.26  0.27  1.18  1.79]\n",
      " [ 0.17  1.44  0.14  1.29]\n",
      " [ 1.26  1.44  1.18  0.55]\n",
      " [ 0.17  1.44  1.18  0.77]\n",
      " [ 1.26  1.44  1.18  1.95]\n",
      " [ 1.26  1.44  1.18  1.54]\n",
      " [ 1.26  1.44  1.18  1.48]\n",
      " [ 2.35  1.44  1.18  0.58]\n",
      " [ 1.26  2.61  0.14  2.77]\n",
      " [ 1.26  1.44  2.21  1.55]\n",
      " [ 2.35  0.27  1.18  0.76]\n",
      " [ 0.17  1.44  2.21  1.12]\n",
      " [ 0.17  0.27  2.21  3.2 ]\n",
      " [ 2.35  0.27  1.18  1.34]\n",
      " [ 0.17  0.27  1.18  1.09]\n",
      " [ 1.26  1.44  2.21  1.15]\n",
      " [ 1.26  1.44  1.18  3.37]\n",
      " [ 0.17  2.61  2.21  3.17]\n",
      " [ 2.35  2.61  1.18  1.72]\n",
      " [ 0.17  0.27  0.14  2.57]\n",
      " [ 1.26  1.44  0.14  0.31]\n",
      " [ 0.17  0.27  1.18  0.14]\n",
      " [ 1.26  0.27  0.14  0.14]\n",
      " [ 0.17  1.44  1.18 -0.15]\n",
      " [ 1.26  0.27  2.21 -0.19]\n",
      " [ 0.17  0.27  1.18 -0.02]\n",
      " [ 1.26  0.27  0.14 -0.2 ]\n",
      " [ 0.17  0.27  1.18  0.45]\n",
      " [ 2.35  1.44  1.18 -0.28]\n",
      " [ 1.26 -0.9   2.21 -0.23]\n",
      " [ 0.17  0.27  0.14  0.13]\n",
      " [ 1.26  1.44  1.18  0.91]\n",
      " [ 2.35  0.27  2.21  1.56]\n",
      " [ 0.17  0.27  1.18  1.31]\n",
      " [ 1.26  1.44  1.18 -0.21]\n",
      " [ 0.17  0.27  0.14  4.16]\n",
      " [ 2.35  0.27  2.21  0.59]\n",
      " [ 1.26  1.44  1.18  3.31]]\n"
     ]
    }
   ],
   "source": [
    "# Post Normalization\n",
    "print 'Normalization gives: ',X"
   ]
  },
  {
   "cell_type": "markdown",
   "metadata": {},
   "source": [
    "### Principal Component Analysis of Dataset"
   ]
  },
  {
   "cell_type": "code",
   "execution_count": 45,
   "metadata": {
    "collapsed": false,
    "scrolled": true
   },
   "outputs": [
    {
     "name": "stdout",
     "output_type": "stream",
     "text": [
      "The variance contributed by each PC by order is:  [ 0.72  0.11  0.09]\n",
      "MLE Method Parameters Chosen:  3\n"
     ]
    }
   ],
   "source": [
    "# To getter a better understanding of interaction of the dimensions\n",
    "# plot the first three PCA dimensions\n",
    "fig = plt.figure(1, figsize=(18, 10))\n",
    "ax = Axes3D(fig, elev=-150, azim=110)\n",
    "# Replace mle with any number of components desired for analysis\n",
    "\n",
    "PCA_var = PCA(n_components=3)\n",
    "X_reduced =PCA_var.fit_transform(X)\n",
    "print 'The variance contributed by each PC by order is: ',PCA_var.explained_variance_ratio_\n",
    "print 'MLE Method Parameters Chosen: ',PCA_var.n_components_\n",
    "ax.scatter(X_reduced[:, 0], X_reduced[:, 1], X_reduced[:, 2], c=Y)\n",
    "# for Default colormap: Class 0: Blue Class 1: Green Class 2: Red\n",
    "ax.set_title(\"First three PCA directions\")\n",
    "ax.set_xlabel(\"1st eigenvector\")\n",
    "ax.w_xaxis.set_ticklabels([])\n",
    "ax.set_ylabel(\"2nd eigenvector\")\n",
    "ax.w_yaxis.set_ticklabels([])\n",
    "ax.set_zlabel(\"3rd eigenvector\")\n",
    "ax.w_zaxis.set_ticklabels([])\n",
    "ax.legend(loc=\"lower right\")\n",
    "plt.show()"
   ]
  },
  {
   "cell_type": "markdown",
   "metadata": {},
   "source": [
    "### Using varying kernels allows for Non-linear manifold representations\n",
    "\n",
    "## Kernel PCA"
   ]
  },
  {
   "cell_type": "code",
   "execution_count": 24,
   "metadata": {
    "collapsed": false
   },
   "outputs": [],
   "source": [
    "fig = plt.figure(1, figsize=(18, 10))\n",
    "ax = Axes3D(fig, elev=-150, azim=110)\n",
    "PCA_var= kpca(n_components=14,kernel='rbf')\n",
    "X_reduced =PCA_var.fit_transform(X)\n",
    "ax.scatter(X_reduced[:, 0], X_reduced[:, 1], X_reduced[:, 2], c=Y)\n",
    "ax.set_title(\"First three PCA directions\")\n",
    "ax.set_xlabel(\"1st eigenvector\")\n",
    "ax.w_xaxis.set_ticklabels([])\n",
    "ax.set_ylabel(\"2nd eigenvector\")\n",
    "ax.w_yaxis.set_ticklabels([])\n",
    "ax.set_zlabel(\"3rd eigenvector\")\n",
    "ax.w_zaxis.set_ticklabels([])\n",
    "plt.show()"
   ]
  },
  {
   "cell_type": "markdown",
   "metadata": {},
   "source": [
    "### Classification"
   ]
  },
  {
   "cell_type": "markdown",
   "metadata": {},
   "source": [
    "### Defining Confusion Matrix Function"
   ]
  },
  {
   "cell_type": "code",
   "execution_count": 46,
   "metadata": {
    "collapsed": false
   },
   "outputs": [],
   "source": [
    "class_labels_=np.array(['Group 1','Group 2','Group 3'])\n",
    "def plot_confusion_matrix(cm,name,title='Confusion matrix', cmap=plt.cm.Blues):\n",
    "    plt.imshow(cm, interpolation='nearest', cmap=cmap)\n",
    "    plt.title(title)\n",
    "    plt.colorbar()\n",
    "    tick_marks = np.arange(len(class_labels_))\n",
    "    plt.xticks(tick_marks,class_labels_, rotation=45)\n",
    "    plt.yticks(tick_marks,class_labels_)\n",
    "    plt.tight_layout()\n",
    "    plt.ylabel('True label')\n",
    "    plt.xlabel('Predicted label')"
   ]
  },
  {
   "cell_type": "code",
   "execution_count": 47,
   "metadata": {
    "collapsed": false
   },
   "outputs": [
    {
     "name": "stdout",
     "output_type": "stream",
     "text": [
      "Classifier:  Nearest Neighbors  Accuracy:  0.822580645161\n"
     ]
    },
    {
     "data": {
      "image/png": "[encoded data removed]",
      "text/plain": [
       "<matplotlib.figure.Figure at 0xe825e48>"
      ]
     },
     "metadata": {},
     "output_type": "display_data"
    },
    {
     "name": "stdout",
     "output_type": "stream",
     "text": [
      "Classifier:  RBF SVM  Accuracy:  0.677419354839\n"
     ]
    },
    {
     "data": {
      "image/png": "[encoded data removed]",
      "text/plain": [
       "<matplotlib.figure.Figure at 0xea764a8>"
      ]
     },
     "metadata": {},
     "output_type": "display_data"
    },
    {
     "name": "stdout",
     "output_type": "stream",
     "text": [
      "Classifier:  Decision Tree  Accuracy:  0.709677419355\n"
     ]
    },
    {
     "data": {
      "image/png": "[encoded data removed]",
      "text/plain": [
       "<matplotlib.figure.Figure at 0x83b4c88>"
      ]
     },
     "metadata": {},
     "output_type": "display_data"
    },
    {
     "name": "stdout",
     "output_type": "stream",
     "text": [
      "Classifier:  Random Forest  Accuracy:  0.790322580645\n"
     ]
    },
    {
     "data": {
      "image/png": "[encoded data removed]",
      "text/plain": [
       "<matplotlib.figure.Figure at 0x84fd128>"
      ]
     },
     "metadata": {},
     "output_type": "display_data"
    },
    {
     "name": "stdout",
     "output_type": "stream",
     "text": [
      "Classifier:  Naive Bayes  Accuracy:  0.870967741935\n"
     ]
    },
    {
     "data": {
      "image/png": "[encoded data removed]",
      "text/plain": [
       "<matplotlib.figure.Figure at 0x852ea20>"
      ]
     },
     "metadata": {},
     "output_type": "display_data"
    }
   ],
   "source": [
    "%matplotlib inline\n",
    "import numpy as np\n",
    "import matplotlib.pyplot as plt\n",
    "from matplotlib.colors import ListedColormap\n",
    "from sklearn.cross_validation import train_test_split\n",
    "from sklearn.preprocessing import StandardScaler\n",
    "from sklearn.datasets import make_moons, make_circles, make_classification\n",
    "from sklearn.neighbors import KNeighborsClassifier\n",
    "from sklearn.svm import SVC\n",
    "from sklearn.tree import DecisionTreeClassifier\n",
    "from sklearn.ensemble import RandomForestClassifier, AdaBoostClassifier\n",
    "from sklearn.naive_bayes import GaussianNB\n",
    "from sklearn.discriminant_analysis import LinearDiscriminantAnalysis\n",
    "from sklearn.discriminant_analysis import QuadraticDiscriminantAnalysis\n",
    "\n",
    "f = open(filename)\n",
    "f.readline()  # skip the header\n",
    "data =  np.loadtxt(fname = f, delimiter = ',',dtype='double')\n",
    "Y = data[:,0]\n",
    "X = data[:, 1:data.shape[1]]  # we only take the first two features.\n",
    "names = [\"Nearest Neighbors\", \"RBF SVM\", \"Decision Tree\",\n",
    "         \"Random Forest\", \"Naive Bayes\"]\n",
    "classifiers = [\n",
    "    KNeighborsClassifier(),\n",
    "    SVC(),\n",
    "    DecisionTreeClassifier(),\n",
    "    RandomForestClassifier(),\n",
    "    GaussianNB()]\n",
    "\n",
    "mean = X.mean(axis=0)\n",
    "std = X.std(axis=0)\n",
    "X = (X - mean) / std\n",
    "# X= PCA(n_components=4).fit_transform(X)\n",
    "# preprocess dataset, split into training and test part\n",
    "# standardize\n",
    "\n",
    "X_train, X_test, y_train, y_test = train_test_split(X, Y, test_size=.3)\n",
    "\n",
    "# iterate over classifiers\n",
    "for name, clf in zip(names, classifiers):\n",
    "    clf.fit(X_train, y_train)\n",
    "    score = clf.score(X_test, y_test)\n",
    "    y_predic=clf.predict(X_test)\n",
    "    print 'Classifier: ',name,' Accuracy: ',score\n",
    "    cm=confusion_matrix(y_test,y_predic)\n",
    "    np.set_printoptions(precision=2)\n",
    "    cm_normalized = cm.astype('float') / cm.sum(axis=1)[:, np.newaxis]\n",
    "    plt.figure()\n",
    "    plot_confusion_matrix(cm_normalized,name,title='Normalized confusion matrix for '+name)\n",
    "    plt.show()\n"
   ]
  },
  {
   "cell_type": "code",
   "execution_count": null,
   "metadata": {
    "collapsed": true
   },
   "outputs": [],
   "source": []
  },
  {
   "cell_type": "code",
   "execution_count": null,
   "metadata": {
    "collapsed": true
   },
   "outputs": [],
   "source": []
  }
 ],
 "metadata": {
  "kernelspec": {
   "display_name": "Python 2",
   "language": "python",
   "name": "python2"
  },
  "language_info": {
   "codemirror_mode": {
    "name": "ipython",
    "version": 2
   },
   "file_extension": ".py",
   "mimetype": "text/x-python",
   "name": "python",
   "nbconvert_exporter": "python",
   "pygments_lexer": "ipython2",
   "version": "2.7.12"
  }
 },
 "nbformat": 4,
 "nbformat_minor": 0
}
